{
 "cells": [
  {
   "cell_type": "code",
   "execution_count": 1,
   "metadata": {},
   "outputs": [
    {
     "ename": "FileNotFoundError",
     "evalue": "[Errno 2] No such file or directory: '../data/handwriting/BRUSH/raw/0/1'",
     "output_type": "error",
     "traceback": [
      "\u001b[0;31m---------------------------------------------------------------------------\u001b[0m",
      "\u001b[0;31mFileNotFoundError\u001b[0m                         Traceback (most recent call last)",
      "Cell \u001b[0;32mIn[1], line 13\u001b[0m\n\u001b[1;32m      9\u001b[0m canvas_shape \u001b[39m=\u001b[39m (\u001b[39m120\u001b[39m, \u001b[39m748\u001b[39m)\n\u001b[1;32m     11\u001b[0m dataset_path \u001b[39m=\u001b[39m \u001b[39m\"\u001b[39m\u001b[39m../data/handwriting/BRUSH/raw\u001b[39m\u001b[39m\"\u001b[39m\n\u001b[0;32m---> 13\u001b[0m \u001b[39mwith\u001b[39;00m \u001b[39mopen\u001b[39;49m(\u001b[39mf\u001b[39;49m\u001b[39m\"\u001b[39;49m\u001b[39m{\u001b[39;49;00mdataset_path\u001b[39m}\u001b[39;49;00m\u001b[39m/\u001b[39;49m\u001b[39m{\u001b[39;49;00mwriter_id\u001b[39m}\u001b[39;49;00m\u001b[39m/\u001b[39;49m\u001b[39m{\u001b[39;49;00mdrawing_id\u001b[39m}\u001b[39;49;00m\u001b[39m\"\u001b[39;49m, \u001b[39m'\u001b[39;49m\u001b[39mrb\u001b[39;49m\u001b[39m'\u001b[39;49m) \u001b[39mas\u001b[39;00m f:\n\u001b[1;32m     14\u001b[0m     [sentence, signal, label] \u001b[39m=\u001b[39m pickle\u001b[39m.\u001b[39mload(f)\n\u001b[1;32m     16\u001b[0m     \u001b[39m#Sentence represents the word written\u001b[39;00m\n",
      "File \u001b[0;32m~/.local/lib/python3.10/site-packages/IPython/core/interactiveshell.py:324\u001b[0m, in \u001b[0;36m_modified_open\u001b[0;34m(file, *args, **kwargs)\u001b[0m\n\u001b[1;32m    317\u001b[0m \u001b[39mif\u001b[39;00m file \u001b[39min\u001b[39;00m {\u001b[39m0\u001b[39m, \u001b[39m1\u001b[39m, \u001b[39m2\u001b[39m}:\n\u001b[1;32m    318\u001b[0m     \u001b[39mraise\u001b[39;00m \u001b[39mValueError\u001b[39;00m(\n\u001b[1;32m    319\u001b[0m         \u001b[39mf\u001b[39m\u001b[39m\"\u001b[39m\u001b[39mIPython won\u001b[39m\u001b[39m'\u001b[39m\u001b[39mt let you open fd=\u001b[39m\u001b[39m{\u001b[39;00mfile\u001b[39m}\u001b[39;00m\u001b[39m by default \u001b[39m\u001b[39m\"\u001b[39m\n\u001b[1;32m    320\u001b[0m         \u001b[39m\"\u001b[39m\u001b[39mas it is likely to crash IPython. If you know what you are doing, \u001b[39m\u001b[39m\"\u001b[39m\n\u001b[1;32m    321\u001b[0m         \u001b[39m\"\u001b[39m\u001b[39myou can use builtins\u001b[39m\u001b[39m'\u001b[39m\u001b[39m open.\u001b[39m\u001b[39m\"\u001b[39m\n\u001b[1;32m    322\u001b[0m     )\n\u001b[0;32m--> 324\u001b[0m \u001b[39mreturn\u001b[39;00m io_open(file, \u001b[39m*\u001b[39;49margs, \u001b[39m*\u001b[39;49m\u001b[39m*\u001b[39;49mkwargs)\n",
      "\u001b[0;31mFileNotFoundError\u001b[0m: [Errno 2] No such file or directory: '../data/handwriting/BRUSH/raw/0/1'"
     ]
    }
   ],
   "source": [
    "import numpy as np \n",
    "import cv2\n",
    "import pickle\n",
    "import matplotlib.pyplot as plt\n",
    "\n",
    "writer_id = 0\n",
    "drawing_id = 1\n",
    "\n",
    "canvas_shape = (120, 748)\n",
    "\n",
    "dataset_path = \"../../data/handwriting/BRUSH/raw\"\n",
    "\n",
    "with open(f\"{dataset_path}/{writer_id}/{drawing_id}\", 'rb') as f:\n",
    "    [sentence, signal, label] = pickle.load(f)\n",
    "\n",
    "    #Sentence represents the word written\n",
    "    print(f\"Sentence is: {sentence}\")\n",
    "\n",
    "    #Drawing represents the online signal x,y,eos sampled at 10ms\n",
    "    print(f\"Online signal of len {len(signal)}\")\n",
    "\n",
    "    canvas = np.zeros(canvas_shape)\n",
    "    draw_current_stroke = False\n",
    "    for x, y, eos in signal:\n",
    "        x,y = int(x), int(y)\n",
    "        if draw_current_stroke:\n",
    "            canvas = cv2.line(canvas, (last_x, last_y), (x, y), 255, 1) \n",
    "        last_x, last_y, draw_current_stroke = x, y, not eos\n",
    "\n",
    "    plt.imshow(canvas,cmap='gray', vmin=0, vmax=255)\n",
    "\n",
    "plt.show()"
   ]
  },
  {
   "cell_type": "code",
   "execution_count": 11,
   "metadata": {},
   "outputs": [],
   "source": [
    "def load_sample(writer_id: int, drawing_id: int):\n",
    "\n",
    "    with open(f\"{dataset_path}/{writer_id}/{drawing_id}\", 'rb') as f:\n",
    "        [sentence, signal, label] = pickle.load(f)\n",
    "    \n",
    "    return sentence, signal, label"
   ]
  },
  {
   "cell_type": "code",
   "execution_count": 12,
   "metadata": {},
   "outputs": [],
   "source": [
    "canvas_shape = (150, 750)\n",
    "DRAW_COLOR = 255\n",
    "\n",
    "def display_sentence(signal: list[int, int, bool], points_mode: bool):\n",
    "    canvas = np.zeros(canvas_shape)\n",
    "    draw_current_stroke = False\n",
    "\n",
    "    for x, y, eos in signal:\n",
    "        x,y = int(x), int(y)\n",
    "        if draw_current_stroke:\n",
    "            if points_mode:\n",
    "                canvas[y, x] = DRAW_COLOR\n",
    "            else:\n",
    "                canvas = cv2.line(canvas, (last_x, last_y), (x, y), DRAW_COLOR, 1) \n",
    "        last_x, last_y, draw_current_stroke = x, y, not eos\n",
    "\n",
    "    plt.imshow(canvas,cmap='gray', vmin=0, vmax=255)\n",
    "\n",
    "    plt.show()"
   ]
  },
  {
   "cell_type": "code",
   "execution_count": 13,
   "metadata": {},
   "outputs": [
    {
     "name": "stdout",
     "output_type": "stream",
     "text": [
      "Sentence: Islington, Hamlin\n",
      "346.18189031427556\n",
      "130.69035812904096\n"
     ]
    },
    {
     "data": {
      "image/png": "[encoded data removed]",
      "text/plain": [
       "<Figure size 640x480 with 1 Axes>"
      ]
     },
     "metadata": {},
     "output_type": "display_data"
    },
    {
     "data": {
      "image/png": "[encoded data removed]",
      "text/plain": [
       "<Figure size 640x480 with 1 Axes>"
      ]
     },
     "metadata": {},
     "output_type": "display_data"
    }
   ],
   "source": [
    "writer_id = 1\n",
    "drawing_id = 1\n",
    "\n",
    "sentence, signal, _ = load_sample(writer_id, drawing_id)\n",
    "\n",
    "print(f\"Sentence: {sentence}\")\n",
    "\n",
    "print(max(signal[:, 0]))\n",
    "print(max(signal[:, 1]))\n",
    "\n",
    "display_sentence(signal, points_mode=False)\n",
    "display_sentence(signal, points_mode=True)"
   ]
  }
 ],
 "metadata": {
  "kernelspec": {
   "display_name": ".venv",
   "language": "python",
   "name": "python3"
  },
  "language_info": {
   "codemirror_mode": {
    "name": "ipython",
    "version": 3
   },
   "file_extension": ".py",
   "mimetype": "text/x-python",
   "name": "python",
   "nbconvert_exporter": "python",
   "pygments_lexer": "ipython3",
   "version": "3.10.12"
  },
  "orig_nbformat": 4
 },
 "nbformat": 4,
 "nbformat_minor": 2
}
