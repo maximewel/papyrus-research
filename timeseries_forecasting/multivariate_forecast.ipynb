{
 "cells": [
  {
   "cell_type": "markdown",
   "metadata": {},
   "source": [
    "# Timeseries forecasting\n",
    "Very simple example of trying to forecast a timeseries of electrical consuption at a plant. Data is from: https://github.com/zhouhaoyi/ETDataset/tree/main\n",
    "\n",
    "Datasets are from two powerplants.\n",
    "- Datasets m1, m2 are taken at minute level\n",
    "- Datasets h1, h2 are taken at hour level\n",
    "\n",
    "Description of the content: Each data point consists of 8 features, including the date of the point, the predictive value \"oil temperature\", and 6 different types of external power load features.\n",
    "\n",
    "The target is the oil temperature (OT)."
   ]
  },
  {
   "cell_type": "code",
   "execution_count": null,
   "metadata": {},
   "outputs": [],
   "source": [
    "import pandas as pd \n",
    "\n",
    "df = pd.read_csv(\"../data/ETT-small/ETTh1.csv\")\n",
    "print(f\"{df.columns}, {df.size}\")"
   ]
  },
  {
   "cell_type": "markdown",
   "metadata": {},
   "source": [
    "# Multivariate\n",
    "For multivariate, we want to use the correlation of the parallel time series in order to facilitate the prediction of the target. We need to concatenate the values of each timestep as a vector. We will then have a vector of size (timesteps * num_predictor)"
   ]
  },
  {
   "cell_type": "code",
   "execution_count": null,
   "metadata": {},
   "outputs": [],
   "source": [
    "data= df.drop(\"date\", axis=\"columns\").to_numpy()\n",
    "target = df['OT'].to_numpy()\n",
    "print(f\"Data shape: {data.shape}, target shape: {target.shape}\")\n",
    "print(data[0])"
   ]
  },
  {
   "cell_type": "code",
   "execution_count": null,
   "metadata": {},
   "outputs": [],
   "source": [
    "import matplotlib.pyplot as plt\n",
    "\n",
    "def visualize_ts(fig_name, ts, ts_name):\n",
    "    # Adjusting the figure size\n",
    "    fig = plt.figure()\n",
    "\n",
    "    # Creating a plot\n",
    "    plt.plot(ts, label=ts_name)\n",
    "\n",
    "    # Adding a plot title and customizing its font size\n",
    "    plt.title(fig_name)\n",
    "\n",
    "    # Adding axis labels and customizing their font size\n",
    "    plt.xlabel('X')\n",
    "    plt.ylabel('Y')\n",
    "\n",
    "    plt.legend()\n",
    "    plt.show()"
   ]
  },
  {
   "cell_type": "code",
   "execution_count": null,
   "metadata": {},
   "outputs": [],
   "source": [
    "visualize_ts(\"visualization of target oil temperature\", target, \"Target\")"
   ]
  },
  {
   "cell_type": "code",
   "execution_count": null,
   "metadata": {},
   "outputs": [],
   "source": [
    "import matplotlib.pyplot as plt\n",
    "\n",
    "def visualize_metrics(data, col_names):\n",
    "    # Adjusting the figure size\n",
    "    fig = plt.figure()\n",
    "\n",
    "    for i in range(len(col_names)):\n",
    "        plt.plot(data[:, i], label=col_names[i])\n",
    "\n",
    "    # Adding a plot title and customizing its font size\n",
    "    plt.title(\"Metrics\")\n",
    "\n",
    "    # Adding axis labels and customizing their font size\n",
    "    plt.xlabel('X')\n",
    "    plt.ylabel('Y')\n",
    "\n",
    "    plt.legend()\n",
    "    plt.show()\n",
    "\n",
    "col_names = df.columns[1:]\n",
    "visualize_metrics(data[:1000], col_names)"
   ]
  },
  {
   "cell_type": "markdown",
   "metadata": {},
   "source": [
    "# Model building\n",
    "A very simple LSTM model"
   ]
  },
  {
   "cell_type": "code",
   "execution_count": null,
   "metadata": {},
   "outputs": [],
   "source": [
    "import torch\n",
    "import torch.nn as nn\n",
    "\n",
    "class LstmForecaster(nn.Module):\n",
    "    lstm_layer: nn.LSTM\n",
    "    output_linear_layer: nn.Linear\n",
    "\n",
    "    def __init__(self, input_size, hidden_size, num_layers):\n",
    "        super().__init__()\n",
    "        self.lstm_layer = nn.LSTM(input_size, hidden_size, num_layers, batch_first=True)\n",
    "        self.output_linear_layer = nn.Linear(hidden_size, 1)\n",
    "\n",
    "    def forward(self, x):\n",
    "        #Pass through LSTM (L,N,Hin​)\n",
    "        x, _ = self.lstm_layer(x)\n",
    "\n",
    "        #Return linear layer prediction for next value based on the last very last hidden output of every batched input\n",
    "        x = self.output_linear_layer(x[:, -1, :])\n",
    "        return x"
   ]
  },
  {
   "cell_type": "markdown",
   "metadata": {},
   "source": [
    "# Data preparation\n",
    "Prepare data: Prepare trajectories for the forecasting task and put then in pytorch dataloards"
   ]
  },
  {
   "cell_type": "code",
   "execution_count": null,
   "metadata": {},
   "outputs": [],
   "source": [
    "import torch\n",
    "from torch.utils.data import Dataset, DataLoader\n",
    "from sklearn.model_selection import train_test_split\n",
    "import numpy as np\n",
    "from sklearn.preprocessing import MinMaxScaler\n",
    "\n",
    "# Task Constants\n",
    "LOOKBACK= 150\n",
    "FORECAST_SIZE = 50\n",
    "number_of_metrics = data.shape[1]\n",
    "\n",
    "\n",
    "#Apply scalign to the whole dataset before creating the trajectories\n",
    "scaler = MinMaxScaler(feature_range=(0, 1))\n",
    "target_scaled = scaler.fit_transform(data.reshape(-1, number_of_metrics))\n",
    "\n",
    "#Create trajectories\n",
    "X, y = [], []\n",
    "for i in range(0, len(target_scaled) - LOOKBACK):\n",
    "    X.append(target_scaled[i:i+LOOKBACK])\n",
    "    y.append(target_scaled[:,-1][i+LOOKBACK])\n",
    "\n",
    "X, y = torch.FloatTensor(np.asarray(X)), torch.FloatTensor(np.asarray(y)).unsqueeze(-1)\n",
    "\n",
    "print(f\"Shape of X data: {X.shape}\")\n",
    "print(f\"Shape of y data: {y.shape}\")\n",
    "\n",
    "test_size = 0.2  # Adjust the test set size as needed\n",
    "X_train, X_test, Y_train, Y_test = train_test_split(X, y, test_size=test_size, random_state=42)\n",
    "\n",
    "print(f\"Shape of train dataset: {X_train.shape}\")\n",
    "print(f\"Shape of test dataset: {X_test.shape}\")\n",
    "\n",
    "class SimpleDataset(Dataset):\n",
    "    def __init__(self, X, Y):\n",
    "        self.X = X\n",
    "        self.Y = Y\n",
    "\n",
    "    def __len__(self):\n",
    "        return len(self.X)\n",
    "\n",
    "    def __getitem__(self, idx):\n",
    "        return self.X[idx], self.Y[idx]\n",
    "\n",
    "batch_size = 32\n",
    "shuffle = False\n",
    "\n",
    "train_dataset = SimpleDataset(X_train, Y_train)\n",
    "test_dataset = SimpleDataset(X_test, Y_test)\n",
    "\n",
    "train_dataloader = DataLoader(train_dataset, batch_size=32, shuffle=True)\n",
    "test_dataloader = DataLoader(test_dataset, batch_size=32, shuffle=False)\n",
    "\n",
    "visualize_ts(\"visualization of target oil temperature\", target_scaled, \"Target\")"
   ]
  },
  {
   "cell_type": "markdown",
   "metadata": {},
   "source": [
    "# Prepare visualization function of predicted / actual "
   ]
  },
  {
   "cell_type": "code",
   "execution_count": null,
   "metadata": {},
   "outputs": [],
   "source": [
    "import matplotlib.pyplot as plt\n",
    "\n",
    "def plot_forecast(predicted_ts, expected_ts, lookback_size):\n",
    "    # Adjusting the figure size\n",
    "    fig = plt.figure()\n",
    "\n",
    "    # Creating a plot\n",
    "    plt.plot(predicted_ts, label=\"Predicted values\", color=\"g\")\n",
    "    plt.plot(expected_ts, label=\"Expected values\", color=\"b\")\n",
    "\n",
    "    # Adding a plot title and customizing its font size\n",
    "    plt.title(\"Forecasting outcomes\")\n",
    "    plt.axvline(lookback_size-1, 0, 1, linestyle=\"dashed\")\n",
    "\n",
    "    # Adding axis labels and customizing their font size\n",
    "    plt.xlabel('X')\n",
    "    plt.ylabel('Y')\n",
    "\n",
    "    plt.legend()\n",
    "    plt.show()"
   ]
  },
  {
   "cell_type": "markdown",
   "metadata": {},
   "source": [
    "# Train model"
   ]
  },
  {
   "cell_type": "code",
   "execution_count": null,
   "metadata": {},
   "outputs": [],
   "source": [
    "import numpy as np\n",
    "\n",
    "# Model-related constants\n",
    "INPUT_SIZE = number_of_metrics\n",
    "HIDDEN_SIZE = 50\n",
    "NUM_LAYERS = 1\n",
    "\n",
    "model = LstmForecaster(INPUT_SIZE, HIDDEN_SIZE, NUM_LAYERS)\n",
    "\n",
    "#Loop-related\n",
    "num_epochs = 20\n",
    "\n",
    "optimizer = torch.optim.Adam(model.parameters(), lr=0.001)\n",
    "loss_fn = nn.MSELoss()\n",
    "\n",
    "# Training loop\n",
    "train_losses = []\n",
    "test_losses = []\n",
    "\n",
    "for epoch in range(num_epochs):\n",
    "  print(f\"Epoch {epoch}...\", end=\"\")\n",
    "\n",
    "  batch_train_losses = []\n",
    "  for X_train, y_train in train_dataloader:\n",
    "    y_pred = model(X_train)\n",
    "\n",
    "    loss = loss_fn(y_pred, y_train)\n",
    "    batch_train_losses.append(loss.item())\n",
    "\n",
    "    optimizer.zero_grad()\n",
    "    loss.backward()\n",
    "    optimizer.step()\n",
    "  \n",
    "  epoch_training_loss = np.mean(batch_train_losses)\n",
    "  train_losses.append(epoch_training_loss)\n",
    "  print(f\"Mean training loss: {epoch_training_loss}\")\n",
    "\n",
    "  with torch.no_grad():\n",
    "    test_batch_losses = []\n",
    "\n",
    "    for X_test, y_test in test_dataloader:\n",
    "      test_pred = model(X_test)\n",
    "\n",
    "      loss = loss_fn(test_pred, y_test)\n",
    "      test_batch_losses.append(loss.item())\n",
    "    \n",
    "    epoch_test_loss = np.mean(test_batch_losses)\n",
    "    test_losses.append(epoch_test_loss)\n",
    "    print(f'Test Loss: {epoch_test_loss:.4f}')\n"
   ]
  },
  {
   "cell_type": "code",
   "execution_count": null,
   "metadata": {},
   "outputs": [],
   "source": [
    "def plot_losses(train_loss, test_loss):\n",
    "    # Adjusting the figure size\n",
    "    fig = plt.figure()\n",
    "\n",
    "    # Creating a plot\n",
    "    plt.plot(train_loss, label=\"Train loss\", color=\"b\")\n",
    "    plt.plot(test_loss, label=\"Test loss\", color=\"r\")\n",
    "\n",
    "    # Adding a plot title and customizing its font size\n",
    "    plt.title(\"Plot of the losses over time\")\n",
    "\n",
    "    # Adding axis labels and customizing their font size\n",
    "    plt.xlabel('Epoch')\n",
    "    plt.ylabel('Loss (MSE)')\n",
    "\n",
    "    plt.legend()\n",
    "    plt.show()\n",
    "\n",
    "plot_losses(train_losses, test_losses)"
   ]
  },
  {
   "cell_type": "markdown",
   "metadata": {},
   "source": [
    "# Output some predictions"
   ]
  },
  {
   "cell_type": "code",
   "execution_count": null,
   "metadata": {},
   "outputs": [],
   "source": [
    "LOOKBACK = 500\n",
    "FORECAST_SIZE = 100\n",
    "\n",
    "def make_prediction(model, X, lookback, forecast_length, forecast_metrics):\n",
    "    \"\"\" forecast_metrics is the forecast of shape (metrics-1) that tells us the metric values at timestap t+1..t+forecast as we only\n",
    "    expect to predict the target and assume we have values for the metric in that time\"\"\"\n",
    "    #Prepare a random dataset sample\n",
    "\n",
    "    with torch.no_grad():\n",
    "        predictions = []\n",
    "        input_data = X.reshape(1, lookback, INPUT_SIZE)\n",
    "        \n",
    "        for i in range(forecast_length):\n",
    "            input_tensor = torch.tensor(input_data).float()\n",
    "            pred = model(input_tensor)\n",
    "            predictions.append(pred[0][0])\n",
    "\n",
    "            metric_tensor = forecast_metrics[i]\n",
    "            forecasted_tensor = torch.cat((metric_tensor, pred.squeeze(0)), dim=0)\n",
    "\n",
    "            input_data = np.append(input_data[:, 1:, :], forecasted_tensor).reshape(1, lookback, INPUT_SIZE)\n",
    "\n",
    "        return predictions\n",
    "\n",
    "# target_np is the timeseries as a simple numpy ndarray\n",
    "idx = np.random.randint(0, len(target) - (LOOKBACK + FORECAST_SIZE) - 1)\n",
    "print(f\"Sampling {LOOKBACK} data from ID {idx}\")\n",
    "lookback = torch.tensor(target_scaled[idx:idx+LOOKBACK, :])\n",
    "groundtruth_forecast = target_scaled[idx+LOOKBACK : idx+LOOKBACK+FORECAST_SIZE]\n",
    "\n",
    "forecast_expected = groundtruth_forecast[:, -1]\n",
    "masked_groundtruth_forecast = torch.tensor(groundtruth_forecast[:, 0:-1])\n",
    "\n",
    "print(f\"Generating forecast of length {FORECAST_SIZE}\")\n",
    "y_predicted = make_prediction(model, lookback, LOOKBACK, FORECAST_SIZE, masked_groundtruth_forecast)\n",
    "\n",
    "plot_forecast(lookback[:, -1].reshape(LOOKBACK).tolist() + y_predicted, \n",
    "              lookback[:, -1].reshape(LOOKBACK).tolist() + forecast_expected.tolist(), \n",
    "              LOOKBACK)"
   ]
  },
  {
   "cell_type": "markdown",
   "metadata": {},
   "source": [
    "# Perform a rolling evaluation of the timeseries to check the X+1 forecasting capability"
   ]
  },
  {
   "cell_type": "code",
   "execution_count": 35,
   "metadata": {},
   "outputs": [
    {
     "data": {
      "image/png": "[encoded data removed]",
      "text/plain": [
       "<Figure size 640x480 with 1 Axes>"
      ]
     },
     "metadata": {},
     "output_type": "display_data"
    }
   ],
   "source": [
    "LOOKBACK = 200\n",
    "STEP = 5\n",
    "\n",
    "ts = target_scaled[:, -1]\n",
    "# Predictions are shifted of the lookback data\n",
    "predictions = [0] * LOOKBACK\n",
    "\n",
    "with torch.no_grad():\n",
    "    for i in range(0, ts.shape[0] - LOOKBACK - STEP, STEP):\n",
    "        input_data = target_scaled[i:i+LOOKBACK, :].reshape(1, LOOKBACK, INPUT_SIZE)\n",
    "\n",
    "        for j in range(STEP):\n",
    "            input_tensor = torch.tensor(input_data).float()\n",
    "            pred = model(input_tensor)\n",
    "            predictions.append(pred[0][0])\n",
    "\n",
    "            metric_tensor = torch.tensor(np.append(target_scaled[i + LOOKBACK + j + 1, :-2], pred))\n",
    "\n",
    "            forecasted_tensor = torch.cat((metric_tensor, pred.squeeze(-1)), dim=0)\n",
    "            input_data = np.append(input_data[:, 1:, :], forecasted_tensor).reshape(1, LOOKBACK, INPUT_SIZE)\n",
    "\n",
    "plot_forecast(predictions[:1000], ts[:1000], 0)\n"
   ]
  }
 ],
 "metadata": {
  "kernelspec": {
   "display_name": ".venv",
   "language": "python",
   "name": "python3"
  },
  "language_info": {
   "codemirror_mode": {
    "name": "ipython",
    "version": 3
   },
   "file_extension": ".py",
   "mimetype": "text/x-python",
   "name": "python",
   "nbconvert_exporter": "python",
   "pygments_lexer": "ipython3",
   "version": "3.10.12"
  },
  "orig_nbformat": 4
 },
 "nbformat": 4,
 "nbformat_minor": 2
}
